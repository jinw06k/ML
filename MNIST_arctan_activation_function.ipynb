{
 "cells": [
  {
   "cell_type": "markdown",
   "id": "0c5bc950",
   "metadata": {},
   "source": [
    "# Arctan Activation Function"
   ]
  },
  {
   "cell_type": "markdown",
   "id": "9e7c7140",
   "metadata": {},
   "source": [
    "For this project, I have created a CNN model with Arctan (Inverse Tangent) function as an activation function and compared its performance with traditional models with ReLU and Sigmoid activation function."
   ]
  },
  {
   "cell_type": "code",
   "execution_count": 1,
   "id": "b4417301",
   "metadata": {},
   "outputs": [],
   "source": [
    "# Importing libraries\n",
    "import numpy as np\n",
    "import tensorflow as tf\n",
    "import matplotlib.pyplot as plt\n",
    "\n",
    "import keras\n",
    "from keras.datasets import mnist\n",
    "\n",
    "# Below are imported specifically to create cusom activation function\n",
    "from keras import ops"
   ]
  },
  {
   "cell_type": "markdown",
   "id": "901999ac",
   "metadata": {},
   "source": [
    "## Importing and Preparing Data"
   ]
  },
  {
   "cell_type": "markdown",
   "id": "b4b2e854",
   "metadata": {},
   "source": [
    "We can use load_data() to conveniently import MNIST data set into our matrices. The MNIST data set from Keras contains 70,000 28x28 grayscale images, 60,000 of which are training data and 10,000 of which are test data. Images are normalized in range by dividing by 255."
   ]
  },
  {
   "cell_type": "code",
   "execution_count": 2,
   "id": "4bb61586",
   "metadata": {},
   "outputs": [],
   "source": [
    "# Importing MNIST data\n",
    "(train_X, train_y), (test_X, test_y) = mnist.load_data()"
   ]
  },
  {
   "cell_type": "code",
   "execution_count": 3,
   "id": "2813f158",
   "metadata": {},
   "outputs": [],
   "source": [
    "# Dividing by 255.0 \n",
    "train_X = train_X/255.0\n",
    "test_X = test_X/255.0"
   ]
  },
  {
   "cell_type": "markdown",
   "id": "86889f11",
   "metadata": {},
   "source": [
    "## Implementing the Arctan Activation Function"
   ]
  },
  {
   "cell_type": "markdown",
   "id": "2a698b44",
   "metadata": {},
   "source": [
    "We can use the arctan() function from keras.ops as it allows tensor input and output. We can also add further modifications to the calculation to limit the range of this activation function to [0, 1] just like sigmoid activation function"
   ]
  },
  {
   "cell_type": "code",
   "execution_count": 4,
   "id": "187774a9",
   "metadata": {},
   "outputs": [],
   "source": [
    "def arctan_activation(x):\n",
    "    x = (1/np.pi)*keras.ops.arctan(x) + 0.5\n",
    "    return x"
   ]
  },
  {
   "cell_type": "markdown",
   "id": "3f3d0a8f",
   "metadata": {},
   "source": [
    "Then, we can write a simple code below to confirm our arctan function"
   ]
  },
  {
   "cell_type": "code",
   "execution_count": 5,
   "id": "d33024b7",
   "metadata": {},
   "outputs": [
    {
     "data": {
      "text/plain": [
       "[<matplotlib.lines.Line2D at 0x17a3f1650>]"
      ]
     },
     "execution_count": 5,
     "metadata": {},
     "output_type": "execute_result"
    },
    {
     "data": {
      "image/png": "[encoded data removed]",
      "text/plain": [
       "<Figure size 640x480 with 1 Axes>"
      ]
     },
     "metadata": {},
     "output_type": "display_data"
    }
   ],
   "source": [
    "graph_x = np.arange(start=-20, stop=20, step=0.1) # array of values from -20 to 20, with step size of 0.1\n",
    "graph_y = arctan_activation(graph_x) # arctan values of input values from graph_x\n",
    "\n",
    "plt.plot(graph_x, graph_y)"
   ]
  },
  {
   "cell_type": "markdown",
   "id": "b4d6511e",
   "metadata": {},
   "source": [
    "# Training CNN"
   ]
  },
  {
   "cell_type": "markdown",
   "id": "c49ce05a",
   "metadata": {},
   "source": [
    "We are going to use Keras to create a simple CNN model using three hidden layers with arctan activation function and the final layer with softmax."
   ]
  },
  {
   "cell_type": "code",
   "execution_count": 6,
   "id": "881f73ce",
   "metadata": {},
   "outputs": [
    {
     "name": "stdout",
     "output_type": "stream",
     "text": [
      "Epoch 1/3\n",
      "\u001b[1m1875/1875\u001b[0m \u001b[32m━━━━━━━━━━━━━━━━━━━━\u001b[0m\u001b[37m\u001b[0m \u001b[1m3s\u001b[0m 1ms/step - accuracy: 0.7386 - loss: 0.9882\n",
      "Epoch 2/3\n",
      "\u001b[1m1875/1875\u001b[0m \u001b[32m━━━━━━━━━━━━━━━━━━━━\u001b[0m\u001b[37m\u001b[0m \u001b[1m2s\u001b[0m 890us/step - accuracy: 0.9478 - loss: 0.1857\n",
      "Epoch 3/3\n",
      "\u001b[1m1875/1875\u001b[0m \u001b[32m━━━━━━━━━━━━━━━━━━━━\u001b[0m\u001b[37m\u001b[0m \u001b[1m4s\u001b[0m 2ms/step - accuracy: 0.9656 - loss: 0.1221\n"
     ]
    },
    {
     "data": {
      "text/plain": [
       "<keras.src.callbacks.history.History at 0x17a3b9fd0>"
      ]
     },
     "execution_count": 6,
     "metadata": {},
     "output_type": "execute_result"
    }
   ],
   "source": [
    "# Model Network\n",
    "modelArctan = keras.Sequential(\n",
    "    [\n",
    "        tf.keras.layers.Flatten(),\n",
    "        tf.keras.layers.Dense(128,activation=arctan_activation),\n",
    "        tf.keras.layers.Dense(128,activation=arctan_activation),\n",
    "        tf.keras.layers.Dense(64,activation=arctan_activation),\n",
    "        tf.keras.layers.Dense(10,activation='softmax')\n",
    "    ]\n",
    ")\n",
    "\n",
    "# Model Compilation \n",
    "modelArctan.compile(loss='SparseCategoricalCrossentropy', \n",
    "              optimizer=keras.optimizers.Adam(learning_rate=0.001),\n",
    "              metrics=['accuracy'])\n",
    "\n",
    "# Model Training\n",
    "modelArctan.fit(train_X, train_y, epochs=3)"
   ]
  },
  {
   "cell_type": "markdown",
   "id": "867ecff2",
   "metadata": {},
   "source": [
    "# Testing CNN"
   ]
  },
  {
   "cell_type": "markdown",
   "id": "17330ecc",
   "metadata": {},
   "source": [
    "We can test the model's performance and compare it with two other models, each with ReLU and Sigmoid as their activation functions."
   ]
  },
  {
   "cell_type": "markdown",
   "id": "d6898963",
   "metadata": {},
   "source": [
    "## Creating CNN with ReLU and Sigmoid"
   ]
  },
  {
   "cell_type": "code",
   "execution_count": 7,
   "id": "d9a97377",
   "metadata": {},
   "outputs": [
    {
     "name": "stdout",
     "output_type": "stream",
     "text": [
      "Epoch 1/3\n",
      "\u001b[1m1875/1875\u001b[0m \u001b[32m━━━━━━━━━━━━━━━━━━━━\u001b[0m\u001b[37m\u001b[0m \u001b[1m3s\u001b[0m 1ms/step - accuracy: 0.8729 - loss: 0.4286\n",
      "Epoch 2/3\n",
      "\u001b[1m1875/1875\u001b[0m \u001b[32m━━━━━━━━━━━━━━━━━━━━\u001b[0m\u001b[37m\u001b[0m \u001b[1m2s\u001b[0m 1ms/step - accuracy: 0.9690 - loss: 0.1016\n",
      "Epoch 3/3\n",
      "\u001b[1m1875/1875\u001b[0m \u001b[32m━━━━━━━━━━━━━━━━━━━━\u001b[0m\u001b[37m\u001b[0m \u001b[1m2s\u001b[0m 972us/step - accuracy: 0.9783 - loss: 0.0708\n"
     ]
    },
    {
     "data": {
      "text/plain": [
       "<keras.src.callbacks.history.History at 0x17f0cee50>"
      ]
     },
     "execution_count": 7,
     "metadata": {},
     "output_type": "execute_result"
    }
   ],
   "source": [
    "# ReLU activation function\n",
    "\n",
    "# Model Network\n",
    "modelRelu = keras.Sequential(\n",
    "    [\n",
    "        tf.keras.layers.Flatten(),\n",
    "        tf.keras.layers.Dense(128,activation='relu'),\n",
    "        tf.keras.layers.Dense(128,activation='relu'),\n",
    "        tf.keras.layers.Dense(64,activation='relu'),\n",
    "        tf.keras.layers.Dense(10,activation='softmax')\n",
    "    ]\n",
    ")\n",
    "\n",
    "# Model Compilation \n",
    "modelRelu.compile(loss='SparseCategoricalCrossentropy', \n",
    "              optimizer=keras.optimizers.Adam(learning_rate=0.001),\n",
    "              metrics=['accuracy'])\n",
    "\n",
    "# Model Training\n",
    "modelRelu.fit(train_X, train_y, epochs=3)"
   ]
  },
  {
   "cell_type": "code",
   "execution_count": 8,
   "id": "06841d5c",
   "metadata": {},
   "outputs": [
    {
     "name": "stdout",
     "output_type": "stream",
     "text": [
      "Epoch 1/3\n",
      "\u001b[1m1875/1875\u001b[0m \u001b[32m━━━━━━━━━━━━━━━━━━━━\u001b[0m\u001b[37m\u001b[0m \u001b[1m3s\u001b[0m 1ms/step - accuracy: 0.7265 - loss: 0.9590\n",
      "Epoch 2/3\n",
      "\u001b[1m1875/1875\u001b[0m \u001b[32m━━━━━━━━━━━━━━━━━━━━\u001b[0m\u001b[37m\u001b[0m \u001b[1m2s\u001b[0m 936us/step - accuracy: 0.9472 - loss: 0.1825\n",
      "Epoch 3/3\n",
      "\u001b[1m1875/1875\u001b[0m \u001b[32m━━━━━━━━━━━━━━━━━━━━\u001b[0m\u001b[37m\u001b[0m \u001b[1m2s\u001b[0m 961us/step - accuracy: 0.9637 - loss: 0.1229\n"
     ]
    },
    {
     "data": {
      "text/plain": [
       "<keras.src.callbacks.history.History at 0x17f3e8250>"
      ]
     },
     "execution_count": 8,
     "metadata": {},
     "output_type": "execute_result"
    }
   ],
   "source": [
    "# Sigmoid activation function\n",
    "\n",
    "# Model Network\n",
    "modelSigmoid = keras.Sequential(\n",
    "    [\n",
    "        tf.keras.layers.Flatten(),\n",
    "        tf.keras.layers.Dense(128,activation='sigmoid'),\n",
    "        tf.keras.layers.Dense(128,activation='sigmoid'),\n",
    "        tf.keras.layers.Dense(64,activation='sigmoid'),\n",
    "        tf.keras.layers.Dense(10,activation='softmax')\n",
    "    ]\n",
    ")\n",
    "\n",
    "# Model Compilation \n",
    "modelSigmoid.compile(loss='SparseCategoricalCrossentropy', \n",
    "              optimizer=keras.optimizers.Adam(learning_rate=0.001),\n",
    "              metrics=['accuracy'])\n",
    "\n",
    "# Model Training\n",
    "modelSigmoid.fit(train_X, train_y, epochs=3)"
   ]
  },
  {
   "cell_type": "markdown",
   "id": "34481afe",
   "metadata": {},
   "source": [
    "## Running the Three Models on Test Dataset"
   ]
  },
  {
   "cell_type": "code",
   "execution_count": 9,
   "id": "126f0284",
   "metadata": {},
   "outputs": [
    {
     "name": "stdout",
     "output_type": "stream",
     "text": [
      "\u001b[1m313/313\u001b[0m \u001b[32m━━━━━━━━━━━━━━━━━━━━\u001b[0m\u001b[37m\u001b[0m \u001b[1m0s\u001b[0m 340us/step - accuracy: 0.9585 - loss: 0.1378\n",
      "\u001b[1m313/313\u001b[0m \u001b[32m━━━━━━━━━━━━━━━━━━━━\u001b[0m\u001b[37m\u001b[0m \u001b[1m0s\u001b[0m 341us/step - accuracy: 0.9702 - loss: 0.0989\n",
      "\u001b[1m313/313\u001b[0m \u001b[32m━━━━━━━━━━━━━━━━━━━━\u001b[0m\u001b[37m\u001b[0m \u001b[1m0s\u001b[0m 348us/step - accuracy: 0.9641 - loss: 0.1190\n"
     ]
    }
   ],
   "source": [
    "loss_arctan, accuracy_arctan =  modelArctan.evaluate(test_X, test_y)\n",
    "loss_relu, accuracy_relu =  modelRelu.evaluate(test_X, test_y)\n",
    "loss_sigmoid, accuracy_sigmoid =  modelSigmoid.evaluate(test_X, test_y)"
   ]
  },
  {
   "cell_type": "code",
   "execution_count": 10,
   "id": "a97bb315",
   "metadata": {},
   "outputs": [
    {
     "name": "stdout",
     "output_type": "stream",
     "text": [
      "Arctan activation function: accuracy = 0.963100, loss = 0.124795\n",
      "ReLU activation function: accuracy = 0.973300, loss = 0.087337\n",
      "Sigmoid activation function: accuracy = 0.968100, loss = 0.107167\n"
     ]
    }
   ],
   "source": [
    "print(\"Arctan activation function: accuracy = %4f, loss = %4f\" % (accuracy_arctan, loss_arctan))\n",
    "print(\"ReLU activation function: accuracy = %4f, loss = %4f\" % (accuracy_relu, loss_relu))\n",
    "print(\"Sigmoid activation function: accuracy = %4f, loss = %4f\" % (accuracy_sigmoid, loss_sigmoid))"
   ]
  },
  {
   "cell_type": "markdown",
   "id": "86c105ae",
   "metadata": {},
   "source": [
    "The result shows the ReLU activation function yields the highest accuracy, followed by Sigmoid and Arctan. However, their difference in performance is negligible, and we cannot determine which is better or worse. I was nevertheless happy to see that my arctan function performing just as well. "
   ]
  },
  {
   "cell_type": "markdown",
   "id": "83b50fb3",
   "metadata": {},
   "source": [
    "Arctan activation function has a very similar shape to sigmoid function, and its accuracy does not fall behind sigmoid. However, in terms of performance, calculating arctan does take longer, and it can cause problems with back propagation when creating certain models."
   ]
  }
 ],
 "metadata": {
  "kernelspec": {
   "display_name": "Python 3 (ipykernel)",
   "language": "python",
   "name": "python3"
  },
  "language_info": {
   "codemirror_mode": {
    "name": "ipython",
    "version": 3
   },
   "file_extension": ".py",
   "mimetype": "text/x-python",
   "name": "python",
   "nbconvert_exporter": "python",
   "pygments_lexer": "ipython3",
   "version": "3.11.5"
  }
 },
 "nbformat": 4,
 "nbformat_minor": 5
}
